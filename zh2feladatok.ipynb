{
    "metadata": {
        "kernelspec": {
            "name": "SQL",
            "display_name": "SQL",
            "language": "sql"
        },
        "language_info": {
            "name": "sql",
            "version": ""
        }
    },
    "nbformat_minor": 2,
    "nbformat": 4,
    "cells": [
        {
            "cell_type": "code",
            "source": [
                "SELECT iif(GROUPING(SZOBA_FK)=1, 'Végösszeg', CAST(SZOBA_FK AS VARCHAR)) as 'Szoba',\r\n",
                "        count(*)\r\n",
                "FROM Foglalas\r\n",
                "WHERE FELNOTT_SZAM > GYERMEK_SZAM\r\n",
                "GROUP BY ROLLUP(SZOBA_FK)\r\n",
                ""
            ],
            "metadata": {
                "azdata_cell_guid": "61f46911-d334-4fec-b1cb-95f375de2dfb",
                "language": "sql"
            },
            "outputs": [
                {
                    "output_type": "display_data",
                    "data": {
                        "text/html": "(190 rows affected)"
                    },
                    "metadata": {}
                },
                {
                    "output_type": "display_data",
                    "data": {
                        "text/html": "Total execution time: 00:00:00.013"
                    },
                    "metadata": {}
                },
                {
                    "output_type": "execute_result",
                    "execution_count": 12,
                    "data": {
                        "application/vnd.dataresource+json": {
                            "schema": {
                                "fields": [
                                    {
                                        "name": "Szoba"
                                    },
                                    {
                                        "name": "(No column name)"
                                    }
                                ]
                            },
                            "data": [
                                {
                                    "Szoba": "1",
                                    "(No column name)": "7"
                                },
                                {
                                    "Szoba": "2",
                                    "(No column name)": "2"
                                },
                                {
                                    "Szoba": "3",
                                    "(No column name)": "3"
                                },
                                {
                                    "Szoba": "4",
                                    "(No column name)": "5"
                                },
                                {
                                    "Szoba": "5",
                                    "(No column name)": "2"
                                },
                                {
                                    "Szoba": "6",
                                    "(No column name)": "5"
                                },
                                {
                                    "Szoba": "7",
                                    "(No column name)": "6"
                                },
                                {
                                    "Szoba": "8",
                                    "(No column name)": "5"
                                },
                                {
                                    "Szoba": "9",
                                    "(No column name)": "4"
                                },
                                {
                                    "Szoba": "10",
                                    "(No column name)": "4"
                                },
                                {
                                    "Szoba": "11",
                                    "(No column name)": "4"
                                },
                                {
                                    "Szoba": "12",
                                    "(No column name)": "7"
                                },
                                {
                                    "Szoba": "13",
                                    "(No column name)": "4"
                                },
                                {
                                    "Szoba": "14",
                                    "(No column name)": "3"
                                },
                                {
                                    "Szoba": "15",
                                    "(No column name)": "4"
                                },
                                {
                                    "Szoba": "16",
                                    "(No column name)": "1"
                                },
                                {
                                    "Szoba": "17",
                                    "(No column name)": "2"
                                },
                                {
                                    "Szoba": "18",
                                    "(No column name)": "3"
                                },
                                {
                                    "Szoba": "19",
                                    "(No column name)": "4"
                                },
                                {
                                    "Szoba": "20",
                                    "(No column name)": "5"
                                },
                                {
                                    "Szoba": "21",
                                    "(No column name)": "1"
                                },
                                {
                                    "Szoba": "22",
                                    "(No column name)": "2"
                                },
                                {
                                    "Szoba": "23",
                                    "(No column name)": "3"
                                },
                                {
                                    "Szoba": "24",
                                    "(No column name)": "3"
                                },
                                {
                                    "Szoba": "25",
                                    "(No column name)": "1"
                                },
                                {
                                    "Szoba": "27",
                                    "(No column name)": "5"
                                },
                                {
                                    "Szoba": "28",
                                    "(No column name)": "5"
                                },
                                {
                                    "Szoba": "29",
                                    "(No column name)": "3"
                                },
                                {
                                    "Szoba": "30",
                                    "(No column name)": "2"
                                },
                                {
                                    "Szoba": "31",
                                    "(No column name)": "1"
                                },
                                {
                                    "Szoba": "32",
                                    "(No column name)": "1"
                                },
                                {
                                    "Szoba": "33",
                                    "(No column name)": "3"
                                },
                                {
                                    "Szoba": "34",
                                    "(No column name)": "3"
                                },
                                {
                                    "Szoba": "35",
                                    "(No column name)": "6"
                                },
                                {
                                    "Szoba": "36",
                                    "(No column name)": "4"
                                },
                                {
                                    "Szoba": "37",
                                    "(No column name)": "2"
                                },
                                {
                                    "Szoba": "38",
                                    "(No column name)": "5"
                                },
                                {
                                    "Szoba": "39",
                                    "(No column name)": "4"
                                },
                                {
                                    "Szoba": "40",
                                    "(No column name)": "3"
                                },
                                {
                                    "Szoba": "41",
                                    "(No column name)": "1"
                                },
                                {
                                    "Szoba": "42",
                                    "(No column name)": "5"
                                },
                                {
                                    "Szoba": "43",
                                    "(No column name)": "4"
                                },
                                {
                                    "Szoba": "44",
                                    "(No column name)": "6"
                                },
                                {
                                    "Szoba": "45",
                                    "(No column name)": "4"
                                },
                                {
                                    "Szoba": "46",
                                    "(No column name)": "3"
                                },
                                {
                                    "Szoba": "47",
                                    "(No column name)": "2"
                                },
                                {
                                    "Szoba": "48",
                                    "(No column name)": "6"
                                },
                                {
                                    "Szoba": "49",
                                    "(No column name)": "5"
                                },
                                {
                                    "Szoba": "50",
                                    "(No column name)": "3"
                                },
                                {
                                    "Szoba": "51",
                                    "(No column name)": "3"
                                },
                                {
                                    "Szoba": "52",
                                    "(No column name)": "5"
                                },
                                {
                                    "Szoba": "54",
                                    "(No column name)": "4"
                                },
                                {
                                    "Szoba": "55",
                                    "(No column name)": "3"
                                },
                                {
                                    "Szoba": "56",
                                    "(No column name)": "1"
                                },
                                {
                                    "Szoba": "57",
                                    "(No column name)": "3"
                                },
                                {
                                    "Szoba": "58",
                                    "(No column name)": "8"
                                },
                                {
                                    "Szoba": "59",
                                    "(No column name)": "4"
                                },
                                {
                                    "Szoba": "60",
                                    "(No column name)": "1"
                                },
                                {
                                    "Szoba": "61",
                                    "(No column name)": "4"
                                },
                                {
                                    "Szoba": "62",
                                    "(No column name)": "3"
                                },
                                {
                                    "Szoba": "63",
                                    "(No column name)": "3"
                                },
                                {
                                    "Szoba": "64",
                                    "(No column name)": "5"
                                },
                                {
                                    "Szoba": "66",
                                    "(No column name)": "3"
                                },
                                {
                                    "Szoba": "67",
                                    "(No column name)": "2"
                                },
                                {
                                    "Szoba": "69",
                                    "(No column name)": "2"
                                },
                                {
                                    "Szoba": "70",
                                    "(No column name)": "8"
                                },
                                {
                                    "Szoba": "71",
                                    "(No column name)": "2"
                                },
                                {
                                    "Szoba": "72",
                                    "(No column name)": "2"
                                },
                                {
                                    "Szoba": "73",
                                    "(No column name)": "4"
                                },
                                {
                                    "Szoba": "74",
                                    "(No column name)": "8"
                                },
                                {
                                    "Szoba": "75",
                                    "(No column name)": "2"
                                },
                                {
                                    "Szoba": "76",
                                    "(No column name)": "2"
                                },
                                {
                                    "Szoba": "77",
                                    "(No column name)": "3"
                                },
                                {
                                    "Szoba": "78",
                                    "(No column name)": "3"
                                },
                                {
                                    "Szoba": "79",
                                    "(No column name)": "4"
                                },
                                {
                                    "Szoba": "80",
                                    "(No column name)": "5"
                                },
                                {
                                    "Szoba": "81",
                                    "(No column name)": "3"
                                },
                                {
                                    "Szoba": "82",
                                    "(No column name)": "5"
                                },
                                {
                                    "Szoba": "83",
                                    "(No column name)": "5"
                                },
                                {
                                    "Szoba": "84",
                                    "(No column name)": "3"
                                },
                                {
                                    "Szoba": "85",
                                    "(No column name)": "2"
                                },
                                {
                                    "Szoba": "86",
                                    "(No column name)": "4"
                                },
                                {
                                    "Szoba": "87",
                                    "(No column name)": "5"
                                },
                                {
                                    "Szoba": "88",
                                    "(No column name)": "5"
                                },
                                {
                                    "Szoba": "89",
                                    "(No column name)": "8"
                                },
                                {
                                    "Szoba": "90",
                                    "(No column name)": "3"
                                },
                                {
                                    "Szoba": "91",
                                    "(No column name)": "2"
                                },
                                {
                                    "Szoba": "92",
                                    "(No column name)": "5"
                                },
                                {
                                    "Szoba": "93",
                                    "(No column name)": "3"
                                },
                                {
                                    "Szoba": "94",
                                    "(No column name)": "6"
                                },
                                {
                                    "Szoba": "95",
                                    "(No column name)": "3"
                                },
                                {
                                    "Szoba": "96",
                                    "(No column name)": "6"
                                },
                                {
                                    "Szoba": "97",
                                    "(No column name)": "5"
                                },
                                {
                                    "Szoba": "98",
                                    "(No column name)": "4"
                                },
                                {
                                    "Szoba": "99",
                                    "(No column name)": "4"
                                },
                                {
                                    "Szoba": "100",
                                    "(No column name)": "2"
                                },
                                {
                                    "Szoba": "101",
                                    "(No column name)": "1"
                                },
                                {
                                    "Szoba": "102",
                                    "(No column name)": "1"
                                },
                                {
                                    "Szoba": "103",
                                    "(No column name)": "1"
                                },
                                {
                                    "Szoba": "104",
                                    "(No column name)": "3"
                                },
                                {
                                    "Szoba": "106",
                                    "(No column name)": "4"
                                },
                                {
                                    "Szoba": "107",
                                    "(No column name)": "4"
                                },
                                {
                                    "Szoba": "108",
                                    "(No column name)": "1"
                                },
                                {
                                    "Szoba": "109",
                                    "(No column name)": "2"
                                },
                                {
                                    "Szoba": "110",
                                    "(No column name)": "5"
                                },
                                {
                                    "Szoba": "111",
                                    "(No column name)": "1"
                                },
                                {
                                    "Szoba": "112",
                                    "(No column name)": "4"
                                },
                                {
                                    "Szoba": "113",
                                    "(No column name)": "2"
                                },
                                {
                                    "Szoba": "114",
                                    "(No column name)": "1"
                                },
                                {
                                    "Szoba": "115",
                                    "(No column name)": "5"
                                },
                                {
                                    "Szoba": "117",
                                    "(No column name)": "4"
                                },
                                {
                                    "Szoba": "118",
                                    "(No column name)": "2"
                                },
                                {
                                    "Szoba": "119",
                                    "(No column name)": "4"
                                },
                                {
                                    "Szoba": "120",
                                    "(No column name)": "2"
                                },
                                {
                                    "Szoba": "121",
                                    "(No column name)": "5"
                                },
                                {
                                    "Szoba": "122",
                                    "(No column name)": "3"
                                },
                                {
                                    "Szoba": "123",
                                    "(No column name)": "5"
                                },
                                {
                                    "Szoba": "124",
                                    "(No column name)": "4"
                                },
                                {
                                    "Szoba": "126",
                                    "(No column name)": "4"
                                },
                                {
                                    "Szoba": "127",
                                    "(No column name)": "5"
                                },
                                {
                                    "Szoba": "129",
                                    "(No column name)": "3"
                                },
                                {
                                    "Szoba": "130",
                                    "(No column name)": "5"
                                },
                                {
                                    "Szoba": "131",
                                    "(No column name)": "4"
                                },
                                {
                                    "Szoba": "132",
                                    "(No column name)": "4"
                                },
                                {
                                    "Szoba": "133",
                                    "(No column name)": "4"
                                },
                                {
                                    "Szoba": "134",
                                    "(No column name)": "4"
                                },
                                {
                                    "Szoba": "135",
                                    "(No column name)": "3"
                                },
                                {
                                    "Szoba": "136",
                                    "(No column name)": "2"
                                },
                                {
                                    "Szoba": "137",
                                    "(No column name)": "2"
                                },
                                {
                                    "Szoba": "138",
                                    "(No column name)": "5"
                                },
                                {
                                    "Szoba": "139",
                                    "(No column name)": "6"
                                },
                                {
                                    "Szoba": "140",
                                    "(No column name)": "5"
                                },
                                {
                                    "Szoba": "141",
                                    "(No column name)": "4"
                                },
                                {
                                    "Szoba": "142",
                                    "(No column name)": "1"
                                },
                                {
                                    "Szoba": "143",
                                    "(No column name)": "5"
                                },
                                {
                                    "Szoba": "144",
                                    "(No column name)": "2"
                                },
                                {
                                    "Szoba": "145",
                                    "(No column name)": "2"
                                },
                                {
                                    "Szoba": "146",
                                    "(No column name)": "3"
                                },
                                {
                                    "Szoba": "147",
                                    "(No column name)": "1"
                                },
                                {
                                    "Szoba": "148",
                                    "(No column name)": "5"
                                },
                                {
                                    "Szoba": "149",
                                    "(No column name)": "5"
                                },
                                {
                                    "Szoba": "150",
                                    "(No column name)": "6"
                                },
                                {
                                    "Szoba": "151",
                                    "(No column name)": "2"
                                },
                                {
                                    "Szoba": "152",
                                    "(No column name)": "3"
                                },
                                {
                                    "Szoba": "153",
                                    "(No column name)": "4"
                                },
                                {
                                    "Szoba": "154",
                                    "(No column name)": "3"
                                },
                                {
                                    "Szoba": "155",
                                    "(No column name)": "3"
                                },
                                {
                                    "Szoba": "156",
                                    "(No column name)": "2"
                                },
                                {
                                    "Szoba": "157",
                                    "(No column name)": "2"
                                },
                                {
                                    "Szoba": "158",
                                    "(No column name)": "3"
                                },
                                {
                                    "Szoba": "160",
                                    "(No column name)": "2"
                                },
                                {
                                    "Szoba": "161",
                                    "(No column name)": "3"
                                },
                                {
                                    "Szoba": "162",
                                    "(No column name)": "2"
                                },
                                {
                                    "Szoba": "163",
                                    "(No column name)": "5"
                                },
                                {
                                    "Szoba": "164",
                                    "(No column name)": "4"
                                },
                                {
                                    "Szoba": "165",
                                    "(No column name)": "5"
                                },
                                {
                                    "Szoba": "166",
                                    "(No column name)": "3"
                                },
                                {
                                    "Szoba": "167",
                                    "(No column name)": "2"
                                },
                                {
                                    "Szoba": "168",
                                    "(No column name)": "1"
                                },
                                {
                                    "Szoba": "169",
                                    "(No column name)": "3"
                                },
                                {
                                    "Szoba": "170",
                                    "(No column name)": "3"
                                },
                                {
                                    "Szoba": "171",
                                    "(No column name)": "5"
                                },
                                {
                                    "Szoba": "172",
                                    "(No column name)": "6"
                                },
                                {
                                    "Szoba": "173",
                                    "(No column name)": "3"
                                },
                                {
                                    "Szoba": "174",
                                    "(No column name)": "4"
                                },
                                {
                                    "Szoba": "175",
                                    "(No column name)": "3"
                                },
                                {
                                    "Szoba": "176",
                                    "(No column name)": "2"
                                },
                                {
                                    "Szoba": "177",
                                    "(No column name)": "1"
                                },
                                {
                                    "Szoba": "178",
                                    "(No column name)": "1"
                                },
                                {
                                    "Szoba": "179",
                                    "(No column name)": "2"
                                },
                                {
                                    "Szoba": "180",
                                    "(No column name)": "1"
                                },
                                {
                                    "Szoba": "181",
                                    "(No column name)": "5"
                                },
                                {
                                    "Szoba": "182",
                                    "(No column name)": "11"
                                },
                                {
                                    "Szoba": "183",
                                    "(No column name)": "3"
                                },
                                {
                                    "Szoba": "184",
                                    "(No column name)": "4"
                                },
                                {
                                    "Szoba": "185",
                                    "(No column name)": "10"
                                },
                                {
                                    "Szoba": "186",
                                    "(No column name)": "1"
                                },
                                {
                                    "Szoba": "187",
                                    "(No column name)": "6"
                                },
                                {
                                    "Szoba": "188",
                                    "(No column name)": "2"
                                },
                                {
                                    "Szoba": "189",
                                    "(No column name)": "1"
                                },
                                {
                                    "Szoba": "190",
                                    "(No column name)": "5"
                                },
                                {
                                    "Szoba": "191",
                                    "(No column name)": "3"
                                },
                                {
                                    "Szoba": "192",
                                    "(No column name)": "1"
                                },
                                {
                                    "Szoba": "193",
                                    "(No column name)": "2"
                                },
                                {
                                    "Szoba": "194",
                                    "(No column name)": "1"
                                },
                                {
                                    "Szoba": "195",
                                    "(No column name)": "5"
                                },
                                {
                                    "Szoba": "196",
                                    "(No column name)": "2"
                                },
                                {
                                    "Szoba": "197",
                                    "(No column name)": "6"
                                },
                                {
                                    "Szoba": "198",
                                    "(No column name)": "7"
                                },
                                {
                                    "Szoba": "Végösszeg",
                                    "(No column name)": "668"
                                }
                            ]
                        },
                        "text/html": "<table><tr><th>Szoba</th><th>(No column name)</th></tr><tr><td>1</td><td>7</td></tr><tr><td>2</td><td>2</td></tr><tr><td>3</td><td>3</td></tr><tr><td>4</td><td>5</td></tr><tr><td>5</td><td>2</td></tr><tr><td>6</td><td>5</td></tr><tr><td>7</td><td>6</td></tr><tr><td>8</td><td>5</td></tr><tr><td>9</td><td>4</td></tr><tr><td>10</td><td>4</td></tr><tr><td>11</td><td>4</td></tr><tr><td>12</td><td>7</td></tr><tr><td>13</td><td>4</td></tr><tr><td>14</td><td>3</td></tr><tr><td>15</td><td>4</td></tr><tr><td>16</td><td>1</td></tr><tr><td>17</td><td>2</td></tr><tr><td>18</td><td>3</td></tr><tr><td>19</td><td>4</td></tr><tr><td>20</td><td>5</td></tr><tr><td>21</td><td>1</td></tr><tr><td>22</td><td>2</td></tr><tr><td>23</td><td>3</td></tr><tr><td>24</td><td>3</td></tr><tr><td>25</td><td>1</td></tr><tr><td>27</td><td>5</td></tr><tr><td>28</td><td>5</td></tr><tr><td>29</td><td>3</td></tr><tr><td>30</td><td>2</td></tr><tr><td>31</td><td>1</td></tr><tr><td>32</td><td>1</td></tr><tr><td>33</td><td>3</td></tr><tr><td>34</td><td>3</td></tr><tr><td>35</td><td>6</td></tr><tr><td>36</td><td>4</td></tr><tr><td>37</td><td>2</td></tr><tr><td>38</td><td>5</td></tr><tr><td>39</td><td>4</td></tr><tr><td>40</td><td>3</td></tr><tr><td>41</td><td>1</td></tr><tr><td>42</td><td>5</td></tr><tr><td>43</td><td>4</td></tr><tr><td>44</td><td>6</td></tr><tr><td>45</td><td>4</td></tr><tr><td>46</td><td>3</td></tr><tr><td>47</td><td>2</td></tr><tr><td>48</td><td>6</td></tr><tr><td>49</td><td>5</td></tr><tr><td>50</td><td>3</td></tr><tr><td>51</td><td>3</td></tr><tr><td>52</td><td>5</td></tr><tr><td>54</td><td>4</td></tr><tr><td>55</td><td>3</td></tr><tr><td>56</td><td>1</td></tr><tr><td>57</td><td>3</td></tr><tr><td>58</td><td>8</td></tr><tr><td>59</td><td>4</td></tr><tr><td>60</td><td>1</td></tr><tr><td>61</td><td>4</td></tr><tr><td>62</td><td>3</td></tr><tr><td>63</td><td>3</td></tr><tr><td>64</td><td>5</td></tr><tr><td>66</td><td>3</td></tr><tr><td>67</td><td>2</td></tr><tr><td>69</td><td>2</td></tr><tr><td>70</td><td>8</td></tr><tr><td>71</td><td>2</td></tr><tr><td>72</td><td>2</td></tr><tr><td>73</td><td>4</td></tr><tr><td>74</td><td>8</td></tr><tr><td>75</td><td>2</td></tr><tr><td>76</td><td>2</td></tr><tr><td>77</td><td>3</td></tr><tr><td>78</td><td>3</td></tr><tr><td>79</td><td>4</td></tr><tr><td>80</td><td>5</td></tr><tr><td>81</td><td>3</td></tr><tr><td>82</td><td>5</td></tr><tr><td>83</td><td>5</td></tr><tr><td>84</td><td>3</td></tr><tr><td>85</td><td>2</td></tr><tr><td>86</td><td>4</td></tr><tr><td>87</td><td>5</td></tr><tr><td>88</td><td>5</td></tr><tr><td>89</td><td>8</td></tr><tr><td>90</td><td>3</td></tr><tr><td>91</td><td>2</td></tr><tr><td>92</td><td>5</td></tr><tr><td>93</td><td>3</td></tr><tr><td>94</td><td>6</td></tr><tr><td>95</td><td>3</td></tr><tr><td>96</td><td>6</td></tr><tr><td>97</td><td>5</td></tr><tr><td>98</td><td>4</td></tr><tr><td>99</td><td>4</td></tr><tr><td>100</td><td>2</td></tr><tr><td>101</td><td>1</td></tr><tr><td>102</td><td>1</td></tr><tr><td>103</td><td>1</td></tr><tr><td>104</td><td>3</td></tr><tr><td>106</td><td>4</td></tr><tr><td>107</td><td>4</td></tr><tr><td>108</td><td>1</td></tr><tr><td>109</td><td>2</td></tr><tr><td>110</td><td>5</td></tr><tr><td>111</td><td>1</td></tr><tr><td>112</td><td>4</td></tr><tr><td>113</td><td>2</td></tr><tr><td>114</td><td>1</td></tr><tr><td>115</td><td>5</td></tr><tr><td>117</td><td>4</td></tr><tr><td>118</td><td>2</td></tr><tr><td>119</td><td>4</td></tr><tr><td>120</td><td>2</td></tr><tr><td>121</td><td>5</td></tr><tr><td>122</td><td>3</td></tr><tr><td>123</td><td>5</td></tr><tr><td>124</td><td>4</td></tr><tr><td>126</td><td>4</td></tr><tr><td>127</td><td>5</td></tr><tr><td>129</td><td>3</td></tr><tr><td>130</td><td>5</td></tr><tr><td>131</td><td>4</td></tr><tr><td>132</td><td>4</td></tr><tr><td>133</td><td>4</td></tr><tr><td>134</td><td>4</td></tr><tr><td>135</td><td>3</td></tr><tr><td>136</td><td>2</td></tr><tr><td>137</td><td>2</td></tr><tr><td>138</td><td>5</td></tr><tr><td>139</td><td>6</td></tr><tr><td>140</td><td>5</td></tr><tr><td>141</td><td>4</td></tr><tr><td>142</td><td>1</td></tr><tr><td>143</td><td>5</td></tr><tr><td>144</td><td>2</td></tr><tr><td>145</td><td>2</td></tr><tr><td>146</td><td>3</td></tr><tr><td>147</td><td>1</td></tr><tr><td>148</td><td>5</td></tr><tr><td>149</td><td>5</td></tr><tr><td>150</td><td>6</td></tr><tr><td>151</td><td>2</td></tr><tr><td>152</td><td>3</td></tr><tr><td>153</td><td>4</td></tr><tr><td>154</td><td>3</td></tr><tr><td>155</td><td>3</td></tr><tr><td>156</td><td>2</td></tr><tr><td>157</td><td>2</td></tr><tr><td>158</td><td>3</td></tr><tr><td>160</td><td>2</td></tr><tr><td>161</td><td>3</td></tr><tr><td>162</td><td>2</td></tr><tr><td>163</td><td>5</td></tr><tr><td>164</td><td>4</td></tr><tr><td>165</td><td>5</td></tr><tr><td>166</td><td>3</td></tr><tr><td>167</td><td>2</td></tr><tr><td>168</td><td>1</td></tr><tr><td>169</td><td>3</td></tr><tr><td>170</td><td>3</td></tr><tr><td>171</td><td>5</td></tr><tr><td>172</td><td>6</td></tr><tr><td>173</td><td>3</td></tr><tr><td>174</td><td>4</td></tr><tr><td>175</td><td>3</td></tr><tr><td>176</td><td>2</td></tr><tr><td>177</td><td>1</td></tr><tr><td>178</td><td>1</td></tr><tr><td>179</td><td>2</td></tr><tr><td>180</td><td>1</td></tr><tr><td>181</td><td>5</td></tr><tr><td>182</td><td>11</td></tr><tr><td>183</td><td>3</td></tr><tr><td>184</td><td>4</td></tr><tr><td>185</td><td>10</td></tr><tr><td>186</td><td>1</td></tr><tr><td>187</td><td>6</td></tr><tr><td>188</td><td>2</td></tr><tr><td>189</td><td>1</td></tr><tr><td>190</td><td>5</td></tr><tr><td>191</td><td>3</td></tr><tr><td>192</td><td>1</td></tr><tr><td>193</td><td>2</td></tr><tr><td>194</td><td>1</td></tr><tr><td>195</td><td>5</td></tr><tr><td>196</td><td>2</td></tr><tr><td>197</td><td>6</td></tr><tr><td>198</td><td>7</td></tr><tr><td>Végösszeg</td><td>668</td></tr></table>"
                    },
                    "metadata": {}
                }
            ],
            "execution_count": 12
        },
        {
            "cell_type": "markdown",
            "source": [
                "Készítsük listát, amely a szobák azonosítóit és a hozzájuk tartozó foglalások azonosítóját és időtartalmát (napokban) jeleníti meg!\n",
                "\n",
                "- Egy új oszlopban jelenítsük meg az adott szoba időben előző foglalásának időtartamát is!\n",
                "- Ha nincs előző, akkor 0 jelenjen meg"
            ],
            "metadata": {
                "azdata_cell_guid": "1de28555-7528-4845-8b57-a865499724a7"
            },
            "attachments": {}
        },
        {
            "cell_type": "code",
            "source": [
                "SELECT sz.SZOBA_ID,\r\n",
                "        f.FOGLALAS_PK,\r\n",
                "        DATEDIFF(day, f.METTOL, f.MEDDIG) as 'időtartam',\r\n",
                "        LAG(DATEDIFF(day, f.METTOL, f.MEDDIG),1,0) OVER(ORDER BY f.FOGLALAS_PK)\r\n",
                "FROM Szoba sz JOIN Foglalas f ON sz.SZOBA_ID = f.FOGLALAS_PK"
            ],
            "metadata": {
                "azdata_cell_guid": "ad31f207-691c-4530-923a-6f27b85702a6",
                "language": "sql"
            },
            "outputs": [
                {
                    "output_type": "display_data",
                    "data": {
                        "text/html": "(0 rows affected)"
                    },
                    "metadata": {}
                },
                {
                    "output_type": "display_data",
                    "data": {
                        "text/html": "Total execution time: 00:00:00.013"
                    },
                    "metadata": {}
                },
                {
                    "output_type": "execute_result",
                    "metadata": {},
                    "execution_count": 2,
                    "data": {
                        "application/vnd.dataresource+json": {
                            "schema": {
                                "fields": [
                                    {
                                        "name": "SZOBA_ID"
                                    },
                                    {
                                        "name": "FOGLALAS_PK"
                                    },
                                    {
                                        "name": "időtartam"
                                    },
                                    {
                                        "name": "(No column name)"
                                    }
                                ]
                            },
                            "data": []
                        },
                        "text/html": [
                            "<table>",
                            "<tr><th>SZOBA_ID</th><th>FOGLALAS_PK</th><th>időtartam</th><th>(No column name)</th></tr>",
                            "</table>"
                        ]
                    }
                }
            ],
            "execution_count": 2
        },
        {
            "cell_type": "markdown",
            "source": [
                "Kérdezzük le szálláshelyenként, hogy ott összesen hány főre foglaltak (felnőtt + gyermek együttesen)!  \n",
                "\n",
                "a. Szűrjük le a legkevesebb foglalással rendelkező szálláshelyet!\n",
                "\n",
                "b. Csak a szálláshely neve és a foglalásszám jelenjen meg!"
            ],
            "metadata": {
                "azdata_cell_guid": "2462a0ad-f339-4175-8424-7c95160d789c"
            },
            "attachments": {}
        },
        {
            "cell_type": "code",
            "source": [
                "SELECT szallas_nev,\r\n",
                "        sum(f.FELNOTT_SZAM+f.GYERMEK_SZAM)\r\n",
                "FROM Szallashely sza JOIN Szoba sz ON sza.SZALLAS_ID = sz.SZALLAS_FK\r\n",
                "                        JOIN Foglalas f ON sz.SZOBA_ID = f.SZOBA_FK\r\n",
                "GROUP BY SZALLAS_NEV\r\n",
                "having count(*) <= (\r\n",
                "\r\n",
                "SELECT sza.SZALLAS_NEV,\r\n",
                "        sum(f.FELNOTT_SZAM+f.GYERMEK_SZAM)\r\n",
                "FROM Szallashely sza JOIN Szoba sz ON sza.SZALLAS_ID = sz.SZALLAS_FK\r\n",
                "                        JOIN Foglalas f ON sz.SZOBA_ID = f.SZOBA_FK\r\n",
                "GROUP BY sza.SZALLAS_NEV)"
            ],
            "metadata": {
                "azdata_cell_guid": "52875cf4-181b-4232-a96f-9e5f71c2728b",
                "language": "sql"
            },
            "outputs": [
                {
                    "output_type": "error",
                    "evalue": "Msg 116, Level 16, State 1, Line 12\r\nOnly one expression can be specified in the select list when the subquery is not introduced with EXISTS.",
                    "ename": "",
                    "traceback": []
                },
                {
                    "output_type": "display_data",
                    "data": {
                        "text/html": "Total execution time: 00:00:00.001"
                    },
                    "metadata": {}
                }
            ],
            "execution_count": 32
        }
    ]
}
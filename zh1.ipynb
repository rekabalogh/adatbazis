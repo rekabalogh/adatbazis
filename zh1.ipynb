{
    "metadata": {
        "kernelspec": {
            "name": "SQL",
            "display_name": "SQL",
            "language": "sql"
        },
        "language_info": {
            "name": "sql",
            "version": ""
        }
    },
    "nbformat_minor": 2,
    "nbformat": 4,
    "cells": [
        {
            "cell_type": "code",
            "source": [
                "SELECT ROGZITETTE, \r\n",
                "        SZALLAS_NEV,\r\n",
                "        CIM\r\n",
                "FROM Szallashely\r\n",
                "WHERE MONTH(ROGZ_IDO) = '3' and HELY like '%Balaton%'\r\n",
                "ORDER BY CSILLAGOK_SZAMA DESC"
            ],
            "metadata": {
                "azdata_cell_guid": "eda99369-e357-4bd8-a62b-e6e74ab16025",
                "language": "sql"
            },
            "outputs": [
                {
                    "output_type": "display_data",
                    "data": {
                        "text/html": "(7 rows affected)"
                    },
                    "metadata": {}
                },
                {
                    "output_type": "display_data",
                    "data": {
                        "text/html": "Total execution time: 00:00:00.007"
                    },
                    "metadata": {}
                },
                {
                    "output_type": "execute_result",
                    "metadata": {},
                    "execution_count": 51,
                    "data": {
                        "application/vnd.dataresource+json": {
                            "schema": {
                                "fields": [
                                    {
                                        "name": "ROGZITETTE"
                                    },
                                    {
                                        "name": "SZALLAS_NEV"
                                    },
                                    {
                                        "name": "CIM"
                                    },
                                    {
                                        "name": "CSILLAGOK_SZAMA"
                                    }
                                ]
                            },
                            "data": [
                                {
                                    "ROGZITETTE": "Béla",
                                    "SZALLAS_NEV": "Hotel Három Hattyú",
                                    "CIM": "8623 Balatonföldvár, Rákóczi Ferenc út 45.",
                                    "CSILLAGOK_SZAMA": "4"
                                },
                                {
                                    "ROGZITETTE": "Mari",
                                    "SZALLAS_NEV": "Jáde panzió",
                                    "CIM": "8624 Balatonföldvár, Kiss u.2.",
                                    "CSILLAGOK_SZAMA": "3"
                                },
                                {
                                    "ROGZITETTE": "Béla",
                                    "SZALLAS_NEV": "Kentaur Hotel",
                                    "CIM": "8600 Siófok (Széplak), Akácfa utca 1",
                                    "CSILLAGOK_SZAMA": "3"
                                },
                                {
                                    "ROGZITETTE": "Béla",
                                    "SZALLAS_NEV": "Tímárház Panzió",
                                    "CIM": "8600 Siófok, Virág utca 1",
                                    "CSILLAGOK_SZAMA": "3"
                                },
                                {
                                    "ROGZITETTE": "Béla",
                                    "SZALLAS_NEV": "Családi Ház",
                                    "CIM": "8630 Balatonboglár, József Attila utca 25",
                                    "CSILLAGOK_SZAMA": "0"
                                },
                                {
                                    "ROGZITETTE": "Mari",
                                    "SZALLAS_NEV": "Szieszta Apartmanház",
                                    "CIM": "8630 Balatonboglár, Dózsa György utca 108",
                                    "CSILLAGOK_SZAMA": "0"
                                },
                                {
                                    "ROGZITETTE": "Béla",
                                    "SZALLAS_NEV": "Partiszél Vendégház",
                                    "CIM": "8220 Balatonalmádi Neptun u. 23.",
                                    "CSILLAGOK_SZAMA": "0"
                                }
                            ]
                        },
                        "text/html": [
                            "<table>",
                            "<tr><th>ROGZITETTE</th><th>SZALLAS_NEV</th><th>CIM</th><th>CSILLAGOK_SZAMA</th></tr>",
                            "<tr><td>Béla</td><td>Hotel Három Hattyú</td><td>8623 Balatonföldvár, Rákóczi Ferenc út 45.</td><td>4</td></tr>",
                            "<tr><td>Mari</td><td>Jáde panzió</td><td>8624 Balatonföldvár, Kiss u.2.</td><td>3</td></tr>",
                            "<tr><td>Béla</td><td>Kentaur Hotel</td><td>8600 Siófok (Széplak), Akácfa utca 1</td><td>3</td></tr>",
                            "<tr><td>Béla</td><td>Tímárház Panzió</td><td>8600 Siófok, Virág utca 1</td><td>3</td></tr>",
                            "<tr><td>Béla</td><td>Családi Ház</td><td>8630 Balatonboglár, József Attila utca 25</td><td>0</td></tr>",
                            "<tr><td>Mari</td><td>Szieszta Apartmanház</td><td>8630 Balatonboglár, Dózsa György utca 108</td><td>0</td></tr>",
                            "<tr><td>Béla</td><td>Partiszél Vendégház</td><td>8220 Balatonalmádi Neptun u. 23.</td><td>0</td></tr>",
                            "</table>"
                        ]
                    }
                }
            ],
            "execution_count": 51
        },
        {
            "cell_type": "code",
            "source": [
                "SELECT SZOBA_FK,\r\n",
                "        COUNT(*) as 'db'\r\n",
                "FROM  Foglalas\r\n",
                "WHERE FELNOTT_SZAM > GYERMEK_SZAM\r\n",
                "GROUP BY SZOBA_FK\r\n",
                "HAVING COUNT(*) > 2\r\n",
                "ORDER BY COUNT(*) ASC\r\n",
                "\r\n",
                ""
            ],
            "metadata": {
                "azdata_cell_guid": "30e4675c-d831-4484-b3f6-b751977b253b",
                "language": "sql"
            },
            "outputs": [
                {
                    "output_type": "display_data",
                    "data": {
                        "text/html": "(130 rows affected)"
                    },
                    "metadata": {}
                },
                {
                    "output_type": "display_data",
                    "data": {
                        "text/html": "Total execution time: 00:00:00.010"
                    },
                    "metadata": {}
                },
                {
                    "output_type": "execute_result",
                    "metadata": {},
                    "execution_count": 23,
                    "data": {
                        "application/vnd.dataresource+json": {
                            "schema": {
                                "fields": [
                                    {
                                        "name": "SZOBA_FK"
                                    },
                                    {
                                        "name": "db"
                                    }
                                ]
                            },
                            "data": [
                                {
                                    "SZOBA_FK": "3",
                                    "db": "3"
                                },
                                {
                                    "SZOBA_FK": "14",
                                    "db": "3"
                                },
                                {
                                    "SZOBA_FK": "23",
                                    "db": "3"
                                },
                                {
                                    "SZOBA_FK": "24",
                                    "db": "3"
                                },
                                {
                                    "SZOBA_FK": "29",
                                    "db": "3"
                                },
                                {
                                    "SZOBA_FK": "33",
                                    "db": "3"
                                },
                                {
                                    "SZOBA_FK": "34",
                                    "db": "3"
                                },
                                {
                                    "SZOBA_FK": "18",
                                    "db": "3"
                                },
                                {
                                    "SZOBA_FK": "40",
                                    "db": "3"
                                },
                                {
                                    "SZOBA_FK": "46",
                                    "db": "3"
                                },
                                {
                                    "SZOBA_FK": "50",
                                    "db": "3"
                                },
                                {
                                    "SZOBA_FK": "51",
                                    "db": "3"
                                },
                                {
                                    "SZOBA_FK": "55",
                                    "db": "3"
                                },
                                {
                                    "SZOBA_FK": "57",
                                    "db": "3"
                                },
                                {
                                    "SZOBA_FK": "62",
                                    "db": "3"
                                },
                                {
                                    "SZOBA_FK": "63",
                                    "db": "3"
                                },
                                {
                                    "SZOBA_FK": "66",
                                    "db": "3"
                                },
                                {
                                    "SZOBA_FK": "77",
                                    "db": "3"
                                },
                                {
                                    "SZOBA_FK": "78",
                                    "db": "3"
                                },
                                {
                                    "SZOBA_FK": "81",
                                    "db": "3"
                                },
                                {
                                    "SZOBA_FK": "84",
                                    "db": "3"
                                },
                                {
                                    "SZOBA_FK": "90",
                                    "db": "3"
                                },
                                {
                                    "SZOBA_FK": "93",
                                    "db": "3"
                                },
                                {
                                    "SZOBA_FK": "95",
                                    "db": "3"
                                },
                                {
                                    "SZOBA_FK": "104",
                                    "db": "3"
                                },
                                {
                                    "SZOBA_FK": "122",
                                    "db": "3"
                                },
                                {
                                    "SZOBA_FK": "129",
                                    "db": "3"
                                },
                                {
                                    "SZOBA_FK": "135",
                                    "db": "3"
                                },
                                {
                                    "SZOBA_FK": "146",
                                    "db": "3"
                                },
                                {
                                    "SZOBA_FK": "154",
                                    "db": "3"
                                },
                                {
                                    "SZOBA_FK": "155",
                                    "db": "3"
                                },
                                {
                                    "SZOBA_FK": "158",
                                    "db": "3"
                                },
                                {
                                    "SZOBA_FK": "161",
                                    "db": "3"
                                },
                                {
                                    "SZOBA_FK": "152",
                                    "db": "3"
                                },
                                {
                                    "SZOBA_FK": "166",
                                    "db": "3"
                                },
                                {
                                    "SZOBA_FK": "169",
                                    "db": "3"
                                },
                                {
                                    "SZOBA_FK": "170",
                                    "db": "3"
                                },
                                {
                                    "SZOBA_FK": "173",
                                    "db": "3"
                                },
                                {
                                    "SZOBA_FK": "175",
                                    "db": "3"
                                },
                                {
                                    "SZOBA_FK": "183",
                                    "db": "3"
                                },
                                {
                                    "SZOBA_FK": "191",
                                    "db": "3"
                                },
                                {
                                    "SZOBA_FK": "184",
                                    "db": "4"
                                },
                                {
                                    "SZOBA_FK": "174",
                                    "db": "4"
                                },
                                {
                                    "SZOBA_FK": "153",
                                    "db": "4"
                                },
                                {
                                    "SZOBA_FK": "164",
                                    "db": "4"
                                },
                                {
                                    "SZOBA_FK": "141",
                                    "db": "4"
                                },
                                {
                                    "SZOBA_FK": "131",
                                    "db": "4"
                                },
                                {
                                    "SZOBA_FK": "132",
                                    "db": "4"
                                },
                                {
                                    "SZOBA_FK": "133",
                                    "db": "4"
                                },
                                {
                                    "SZOBA_FK": "134",
                                    "db": "4"
                                },
                                {
                                    "SZOBA_FK": "124",
                                    "db": "4"
                                },
                                {
                                    "SZOBA_FK": "126",
                                    "db": "4"
                                },
                                {
                                    "SZOBA_FK": "117",
                                    "db": "4"
                                },
                                {
                                    "SZOBA_FK": "119",
                                    "db": "4"
                                },
                                {
                                    "SZOBA_FK": "106",
                                    "db": "4"
                                },
                                {
                                    "SZOBA_FK": "107",
                                    "db": "4"
                                },
                                {
                                    "SZOBA_FK": "98",
                                    "db": "4"
                                },
                                {
                                    "SZOBA_FK": "99",
                                    "db": "4"
                                },
                                {
                                    "SZOBA_FK": "112",
                                    "db": "4"
                                },
                                {
                                    "SZOBA_FK": "54",
                                    "db": "4"
                                },
                                {
                                    "SZOBA_FK": "86",
                                    "db": "4"
                                },
                                {
                                    "SZOBA_FK": "73",
                                    "db": "4"
                                },
                                {
                                    "SZOBA_FK": "79",
                                    "db": "4"
                                },
                                {
                                    "SZOBA_FK": "59",
                                    "db": "4"
                                },
                                {
                                    "SZOBA_FK": "61",
                                    "db": "4"
                                },
                                {
                                    "SZOBA_FK": "45",
                                    "db": "4"
                                },
                                {
                                    "SZOBA_FK": "43",
                                    "db": "4"
                                },
                                {
                                    "SZOBA_FK": "13",
                                    "db": "4"
                                },
                                {
                                    "SZOBA_FK": "39",
                                    "db": "4"
                                },
                                {
                                    "SZOBA_FK": "19",
                                    "db": "4"
                                },
                                {
                                    "SZOBA_FK": "36",
                                    "db": "4"
                                },
                                {
                                    "SZOBA_FK": "15",
                                    "db": "4"
                                },
                                {
                                    "SZOBA_FK": "9",
                                    "db": "4"
                                },
                                {
                                    "SZOBA_FK": "10",
                                    "db": "4"
                                },
                                {
                                    "SZOBA_FK": "11",
                                    "db": "4"
                                },
                                {
                                    "SZOBA_FK": "4",
                                    "db": "5"
                                },
                                {
                                    "SZOBA_FK": "6",
                                    "db": "5"
                                },
                                {
                                    "SZOBA_FK": "8",
                                    "db": "5"
                                },
                                {
                                    "SZOBA_FK": "27",
                                    "db": "5"
                                },
                                {
                                    "SZOBA_FK": "28",
                                    "db": "5"
                                },
                                {
                                    "SZOBA_FK": "38",
                                    "db": "5"
                                },
                                {
                                    "SZOBA_FK": "20",
                                    "db": "5"
                                },
                                {
                                    "SZOBA_FK": "42",
                                    "db": "5"
                                },
                                {
                                    "SZOBA_FK": "49",
                                    "db": "5"
                                },
                                {
                                    "SZOBA_FK": "52",
                                    "db": "5"
                                },
                                {
                                    "SZOBA_FK": "80",
                                    "db": "5"
                                },
                                {
                                    "SZOBA_FK": "64",
                                    "db": "5"
                                },
                                {
                                    "SZOBA_FK": "82",
                                    "db": "5"
                                },
                                {
                                    "SZOBA_FK": "83",
                                    "db": "5"
                                },
                                {
                                    "SZOBA_FK": "87",
                                    "db": "5"
                                },
                                {
                                    "SZOBA_FK": "88",
                                    "db": "5"
                                },
                                {
                                    "SZOBA_FK": "97",
                                    "db": "5"
                                },
                                {
                                    "SZOBA_FK": "92",
                                    "db": "5"
                                },
                                {
                                    "SZOBA_FK": "115",
                                    "db": "5"
                                },
                                {
                                    "SZOBA_FK": "110",
                                    "db": "5"
                                },
                                {
                                    "SZOBA_FK": "121",
                                    "db": "5"
                                },
                                {
                                    "SZOBA_FK": "123",
                                    "db": "5"
                                },
                                {
                                    "SZOBA_FK": "127",
                                    "db": "5"
                                },
                                {
                                    "SZOBA_FK": "130",
                                    "db": "5"
                                },
                                {
                                    "SZOBA_FK": "143",
                                    "db": "5"
                                },
                                {
                                    "SZOBA_FK": "138",
                                    "db": "5"
                                },
                                {
                                    "SZOBA_FK": "163",
                                    "db": "5"
                                },
                                {
                                    "SZOBA_FK": "148",
                                    "db": "5"
                                },
                                {
                                    "SZOBA_FK": "149",
                                    "db": "5"
                                },
                                {
                                    "SZOBA_FK": "165",
                                    "db": "5"
                                },
                                {
                                    "SZOBA_FK": "171",
                                    "db": "5"
                                },
                                {
                                    "SZOBA_FK": "181",
                                    "db": "5"
                                },
                                {
                                    "SZOBA_FK": "140",
                                    "db": "5"
                                },
                                {
                                    "SZOBA_FK": "195",
                                    "db": "5"
                                },
                                {
                                    "SZOBA_FK": "190",
                                    "db": "5"
                                },
                                {
                                    "SZOBA_FK": "197",
                                    "db": "6"
                                },
                                {
                                    "SZOBA_FK": "187",
                                    "db": "6"
                                },
                                {
                                    "SZOBA_FK": "172",
                                    "db": "6"
                                },
                                {
                                    "SZOBA_FK": "150",
                                    "db": "6"
                                },
                                {
                                    "SZOBA_FK": "139",
                                    "db": "6"
                                },
                                {
                                    "SZOBA_FK": "94",
                                    "db": "6"
                                },
                                {
                                    "SZOBA_FK": "96",
                                    "db": "6"
                                },
                                {
                                    "SZOBA_FK": "44",
                                    "db": "6"
                                },
                                {
                                    "SZOBA_FK": "48",
                                    "db": "6"
                                },
                                {
                                    "SZOBA_FK": "35",
                                    "db": "6"
                                },
                                {
                                    "SZOBA_FK": "7",
                                    "db": "6"
                                },
                                {
                                    "SZOBA_FK": "12",
                                    "db": "7"
                                },
                                {
                                    "SZOBA_FK": "1",
                                    "db": "7"
                                },
                                {
                                    "SZOBA_FK": "198",
                                    "db": "7"
                                },
                                {
                                    "SZOBA_FK": "89",
                                    "db": "8"
                                },
                                {
                                    "SZOBA_FK": "74",
                                    "db": "8"
                                },
                                {
                                    "SZOBA_FK": "70",
                                    "db": "8"
                                },
                                {
                                    "SZOBA_FK": "58",
                                    "db": "8"
                                },
                                {
                                    "SZOBA_FK": "185",
                                    "db": "10"
                                },
                                {
                                    "SZOBA_FK": "182",
                                    "db": "11"
                                }
                            ]
                        },
                        "text/html": [
                            "<table>",
                            "<tr><th>SZOBA_FK</th><th>db</th></tr>",
                            "<tr><td>3</td><td>3</td></tr>",
                            "<tr><td>14</td><td>3</td></tr>",
                            "<tr><td>23</td><td>3</td></tr>",
                            "<tr><td>24</td><td>3</td></tr>",
                            "<tr><td>29</td><td>3</td></tr>",
                            "<tr><td>33</td><td>3</td></tr>",
                            "<tr><td>34</td><td>3</td></tr>",
                            "<tr><td>18</td><td>3</td></tr>",
                            "<tr><td>40</td><td>3</td></tr>",
                            "<tr><td>46</td><td>3</td></tr>",
                            "<tr><td>50</td><td>3</td></tr>",
                            "<tr><td>51</td><td>3</td></tr>",
                            "<tr><td>55</td><td>3</td></tr>",
                            "<tr><td>57</td><td>3</td></tr>",
                            "<tr><td>62</td><td>3</td></tr>",
                            "<tr><td>63</td><td>3</td></tr>",
                            "<tr><td>66</td><td>3</td></tr>",
                            "<tr><td>77</td><td>3</td></tr>",
                            "<tr><td>78</td><td>3</td></tr>",
                            "<tr><td>81</td><td>3</td></tr>",
                            "<tr><td>84</td><td>3</td></tr>",
                            "<tr><td>90</td><td>3</td></tr>",
                            "<tr><td>93</td><td>3</td></tr>",
                            "<tr><td>95</td><td>3</td></tr>",
                            "<tr><td>104</td><td>3</td></tr>",
                            "<tr><td>122</td><td>3</td></tr>",
                            "<tr><td>129</td><td>3</td></tr>",
                            "<tr><td>135</td><td>3</td></tr>",
                            "<tr><td>146</td><td>3</td></tr>",
                            "<tr><td>154</td><td>3</td></tr>",
                            "<tr><td>155</td><td>3</td></tr>",
                            "<tr><td>158</td><td>3</td></tr>",
                            "<tr><td>161</td><td>3</td></tr>",
                            "<tr><td>152</td><td>3</td></tr>",
                            "<tr><td>166</td><td>3</td></tr>",
                            "<tr><td>169</td><td>3</td></tr>",
                            "<tr><td>170</td><td>3</td></tr>",
                            "<tr><td>173</td><td>3</td></tr>",
                            "<tr><td>175</td><td>3</td></tr>",
                            "<tr><td>183</td><td>3</td></tr>",
                            "<tr><td>191</td><td>3</td></tr>",
                            "<tr><td>184</td><td>4</td></tr>",
                            "<tr><td>174</td><td>4</td></tr>",
                            "<tr><td>153</td><td>4</td></tr>",
                            "<tr><td>164</td><td>4</td></tr>",
                            "<tr><td>141</td><td>4</td></tr>",
                            "<tr><td>131</td><td>4</td></tr>",
                            "<tr><td>132</td><td>4</td></tr>",
                            "<tr><td>133</td><td>4</td></tr>",
                            "<tr><td>134</td><td>4</td></tr>",
                            "<tr><td>124</td><td>4</td></tr>",
                            "<tr><td>126</td><td>4</td></tr>",
                            "<tr><td>117</td><td>4</td></tr>",
                            "<tr><td>119</td><td>4</td></tr>",
                            "<tr><td>106</td><td>4</td></tr>",
                            "<tr><td>107</td><td>4</td></tr>",
                            "<tr><td>98</td><td>4</td></tr>",
                            "<tr><td>99</td><td>4</td></tr>",
                            "<tr><td>112</td><td>4</td></tr>",
                            "<tr><td>54</td><td>4</td></tr>",
                            "<tr><td>86</td><td>4</td></tr>",
                            "<tr><td>73</td><td>4</td></tr>",
                            "<tr><td>79</td><td>4</td></tr>",
                            "<tr><td>59</td><td>4</td></tr>",
                            "<tr><td>61</td><td>4</td></tr>",
                            "<tr><td>45</td><td>4</td></tr>",
                            "<tr><td>43</td><td>4</td></tr>",
                            "<tr><td>13</td><td>4</td></tr>",
                            "<tr><td>39</td><td>4</td></tr>",
                            "<tr><td>19</td><td>4</td></tr>",
                            "<tr><td>36</td><td>4</td></tr>",
                            "<tr><td>15</td><td>4</td></tr>",
                            "<tr><td>9</td><td>4</td></tr>",
                            "<tr><td>10</td><td>4</td></tr>",
                            "<tr><td>11</td><td>4</td></tr>",
                            "<tr><td>4</td><td>5</td></tr>",
                            "<tr><td>6</td><td>5</td></tr>",
                            "<tr><td>8</td><td>5</td></tr>",
                            "<tr><td>27</td><td>5</td></tr>",
                            "<tr><td>28</td><td>5</td></tr>",
                            "<tr><td>38</td><td>5</td></tr>",
                            "<tr><td>20</td><td>5</td></tr>",
                            "<tr><td>42</td><td>5</td></tr>",
                            "<tr><td>49</td><td>5</td></tr>",
                            "<tr><td>52</td><td>5</td></tr>",
                            "<tr><td>80</td><td>5</td></tr>",
                            "<tr><td>64</td><td>5</td></tr>",
                            "<tr><td>82</td><td>5</td></tr>",
                            "<tr><td>83</td><td>5</td></tr>",
                            "<tr><td>87</td><td>5</td></tr>",
                            "<tr><td>88</td><td>5</td></tr>",
                            "<tr><td>97</td><td>5</td></tr>",
                            "<tr><td>92</td><td>5</td></tr>",
                            "<tr><td>115</td><td>5</td></tr>",
                            "<tr><td>110</td><td>5</td></tr>",
                            "<tr><td>121</td><td>5</td></tr>",
                            "<tr><td>123</td><td>5</td></tr>",
                            "<tr><td>127</td><td>5</td></tr>",
                            "<tr><td>130</td><td>5</td></tr>",
                            "<tr><td>143</td><td>5</td></tr>",
                            "<tr><td>138</td><td>5</td></tr>",
                            "<tr><td>163</td><td>5</td></tr>",
                            "<tr><td>148</td><td>5</td></tr>",
                            "<tr><td>149</td><td>5</td></tr>",
                            "<tr><td>165</td><td>5</td></tr>",
                            "<tr><td>171</td><td>5</td></tr>",
                            "<tr><td>181</td><td>5</td></tr>",
                            "<tr><td>140</td><td>5</td></tr>",
                            "<tr><td>195</td><td>5</td></tr>",
                            "<tr><td>190</td><td>5</td></tr>",
                            "<tr><td>197</td><td>6</td></tr>",
                            "<tr><td>187</td><td>6</td></tr>",
                            "<tr><td>172</td><td>6</td></tr>",
                            "<tr><td>150</td><td>6</td></tr>",
                            "<tr><td>139</td><td>6</td></tr>",
                            "<tr><td>94</td><td>6</td></tr>",
                            "<tr><td>96</td><td>6</td></tr>",
                            "<tr><td>44</td><td>6</td></tr>",
                            "<tr><td>48</td><td>6</td></tr>",
                            "<tr><td>35</td><td>6</td></tr>",
                            "<tr><td>7</td><td>6</td></tr>",
                            "<tr><td>12</td><td>7</td></tr>",
                            "<tr><td>1</td><td>7</td></tr>",
                            "<tr><td>198</td><td>7</td></tr>",
                            "<tr><td>89</td><td>8</td></tr>",
                            "<tr><td>74</td><td>8</td></tr>",
                            "<tr><td>70</td><td>8</td></tr>",
                            "<tr><td>58</td><td>8</td></tr>",
                            "<tr><td>185</td><td>10</td></tr>",
                            "<tr><td>182</td><td>11</td></tr>",
                            "</table>"
                        ]
                    }
                }
            ],
            "execution_count": 23
        },
        {
            "cell_type": "code",
            "source": [
                "SELECT SZOBA_ID as 'szoba azonosító',\r\n",
                "        year(f.METTOL) as 'év',\r\n",
                "        COUNT(*) as 'db'\r\n",
                "FROM Szoba sz JOIN Foglalas f ON sz.SZOBA_ID = f.SZOBA_FK\r\n",
                "WHERE RIGHT(CAST(SZOBA_ID AS varchar), 1) in (1,3,5,7,9)\r\n",
                "GROUP BY SZOBA_ID,\r\n",
                "        year(f.METTOL)\r\n",
                "HAVING COUNT(*) > 10"
            ],
            "metadata": {
                "azdata_cell_guid": "1be028f0-098e-4eab-b13f-b4ac98082be6",
                "language": "sql"
            },
            "outputs": [
                {
                    "output_type": "display_data",
                    "data": {
                        "text/html": "(0 rows affected)"
                    },
                    "metadata": {}
                },
                {
                    "output_type": "display_data",
                    "data": {
                        "text/html": "Total execution time: 00:00:00.020"
                    },
                    "metadata": {}
                },
                {
                    "output_type": "execute_result",
                    "metadata": {},
                    "execution_count": 47,
                    "data": {
                        "application/vnd.dataresource+json": {
                            "schema": {
                                "fields": [
                                    {
                                        "name": "szoba azonosító"
                                    },
                                    {
                                        "name": "év"
                                    },
                                    {
                                        "name": "db"
                                    }
                                ]
                            },
                            "data": []
                        },
                        "text/html": [
                            "<table>",
                            "<tr><th>szoba azonosító</th><th>év</th><th>db</th></tr>",
                            "</table>"
                        ]
                    }
                }
            ],
            "execution_count": 47
        }
    ]
}
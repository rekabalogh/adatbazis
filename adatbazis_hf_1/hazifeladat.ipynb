{
    "metadata": {
        "kernelspec": {
            "name": "SQL",
            "display_name": "SQL",
            "language": "sql"
        },
        "language_info": {
            "name": "sql",
            "version": ""
        }
    },
    "nbformat_minor": 2,
    "nbformat": 4,
    "cells": [
        {
            "cell_type": "code",
            "source": [
                "SELECT MIN(csillagok_szama) as 'Legkevesebb csillag',\r\n",
                "        MAX(csillagok_szama) as 'Legtöbb csillag',\r\n",
                "        AVG(csillagok_szama) as 'Átlagos csillag'\r\n",
                "FROM Szallashely"
            ],
            "metadata": {
                "azdata_cell_guid": "cf3f04aa-d802-489f-94c3-14264f0a11ae",
                "language": "sql"
            },
            "outputs": [
                {
                    "output_type": "display_data",
                    "data": {
                        "text/html": "(1 row affected)"
                    },
                    "metadata": {}
                },
                {
                    "output_type": "display_data",
                    "data": {
                        "text/html": "Total execution time: 00:00:00.184"
                    },
                    "metadata": {}
                },
                {
                    "output_type": "execute_result",
                    "metadata": {},
                    "execution_count": 39,
                    "data": {
                        "application/vnd.dataresource+json": {
                            "schema": {
                                "fields": [
                                    {
                                        "name": "Legkevesebb csillag"
                                    },
                                    {
                                        "name": "Legtöbb csillag"
                                    },
                                    {
                                        "name": "Átlagos csillag"
                                    }
                                ]
                            },
                            "data": [
                                {
                                    "Legkevesebb csillag": "0",
                                    "Legtöbb csillag": "4",
                                    "Átlagos csillag": "1"
                                }
                            ]
                        },
                        "text/html": [
                            "<table>",
                            "<tr><th>Legkevesebb csillag</th><th>Legtöbb csillag</th><th>Átlagos csillag</th></tr>",
                            "<tr><td>0</td><td>4</td><td>1</td></tr>",
                            "</table>"
                        ]
                    }
                }
            ],
            "execution_count": 39
        },
        {
            "cell_type": "code",
            "source": [
                "SELECT TOP 3 csillagok_szama,\r\n",
                "        COUNT(*) as 'darab'\r\n",
                "FROM Szallashely\r\n",
                "GROUP BY csillagok_szama"
            ],
            "metadata": {
                "azdata_cell_guid": "c3a7374d-cc81-432b-a5f8-fb128b3f3c96",
                "language": "sql",
                "tags": []
            },
            "outputs": [
                {
                    "output_type": "display_data",
                    "data": {
                        "text/html": "(3 rows affected)"
                    },
                    "metadata": {}
                },
                {
                    "output_type": "display_data",
                    "data": {
                        "text/html": "Total execution time: 00:00:00.012"
                    },
                    "metadata": {}
                },
                {
                    "output_type": "execute_result",
                    "metadata": {},
                    "execution_count": 38,
                    "data": {
                        "application/vnd.dataresource+json": {
                            "schema": {
                                "fields": [
                                    {
                                        "name": "csillagok_szama"
                                    },
                                    {
                                        "name": "darab"
                                    }
                                ]
                            },
                            "data": [
                                {
                                    "csillagok_szama": "0",
                                    "darab": "10"
                                },
                                {
                                    "csillagok_szama": "3",
                                    "darab": "8"
                                },
                                {
                                    "csillagok_szama": "4",
                                    "darab": "3"
                                }
                            ]
                        },
                        "text/html": [
                            "<table>",
                            "<tr><th>csillagok_szama</th><th>darab</th></tr>",
                            "<tr><td>0</td><td>10</td></tr>",
                            "<tr><td>3</td><td>8</td></tr>",
                            "<tr><td>4</td><td>3</td></tr>",
                            "</table>"
                        ]
                    }
                }
            ],
            "execution_count": 38
        },
        {
            "cell_type": "code",
            "source": [
                "SELECT MIN(LEN(SZALLAS_NEV)) as 'Legrövidebb szállás név',\r\n",
                "        MAX(LEN(SZALLAS_NEV)) as 'Leghosszabb szállás név',\r\n",
                "        AVG(LEN(SZALLAS_NEV)) as 'Átlagos szálllás név hossz'\r\n",
                "FROM Szallashely"
            ],
            "metadata": {
                "azdata_cell_guid": "277ca042-99ca-40db-910d-4042566a071b",
                "language": "sql"
            },
            "outputs": [
                {
                    "output_type": "display_data",
                    "data": {
                        "text/html": "(1 row affected)"
                    },
                    "metadata": {}
                },
                {
                    "output_type": "display_data",
                    "data": {
                        "text/html": "Total execution time: 00:00:00.009"
                    },
                    "metadata": {}
                },
                {
                    "output_type": "execute_result",
                    "metadata": {},
                    "execution_count": 32,
                    "data": {
                        "application/vnd.dataresource+json": {
                            "schema": {
                                "fields": [
                                    {
                                        "name": "Legrövidebb szállás név"
                                    },
                                    {
                                        "name": "Leghosszabb szállás név"
                                    },
                                    {
                                        "name": "Átlagos szálllás név hossz"
                                    }
                                ]
                            },
                            "data": [
                                {
                                    "Legrövidebb szállás név": "8",
                                    "Leghosszabb szállás név": "20",
                                    "Átlagos szálllás név hossz": "14"
                                }
                            ]
                        },
                        "text/html": [
                            "<table>",
                            "<tr><th>Legrövidebb szállás név</th><th>Leghosszabb szállás név</th><th>Átlagos szálllás név hossz</th></tr>",
                            "<tr><td>8</td><td>20</td><td>14</td></tr>",
                            "</table>"
                        ]
                    }
                }
            ],
            "execution_count": 32
        },
        {
            "cell_type": "code",
            "source": [
                "SELECT TOP 5 SZALLAS_NEV as '5 leghosszabb szállás név',\r\n",
                "        LEN(SZALLAS_NEV) as 'hossz'\r\n",
                "FROM Szallashely\r\n",
                "GROUP BY SZALLAS_NEV\r\n",
                "ORDER BY 2 DESC"
            ],
            "metadata": {
                "azdata_cell_guid": "2e60a468-ddcf-4eab-b684-3466c63b6f1d",
                "language": "sql"
            },
            "outputs": [
                {
                    "output_type": "display_data",
                    "data": {
                        "text/html": "(5 rows affected)"
                    },
                    "metadata": {}
                },
                {
                    "output_type": "display_data",
                    "data": {
                        "text/html": "Total execution time: 00:00:00.926"
                    },
                    "metadata": {}
                },
                {
                    "output_type": "execute_result",
                    "metadata": {},
                    "execution_count": 40,
                    "data": {
                        "application/vnd.dataresource+json": {
                            "schema": {
                                "fields": [
                                    {
                                        "name": "5 leghosszabb szállás név"
                                    },
                                    {
                                        "name": "hossz"
                                    }
                                ]
                            },
                            "data": [
                                {
                                    "5 leghosszabb szállás név": "Szieszta Apartmanház",
                                    "hossz": "20"
                                },
                                {
                                    "5 leghosszabb szállás név": "Partiszél Vendégház",
                                    "hossz": "19"
                                },
                                {
                                    "5 leghosszabb szállás név": "Hotel Három Hattyú",
                                    "hossz": "18"
                                },
                                {
                                    "5 leghosszabb szállás név": "Nyárfás Vendégház",
                                    "hossz": "17"
                                },
                                {
                                    "5 leghosszabb szállás név": "Fortuna Apartman",
                                    "hossz": "16"
                                }
                            ]
                        },
                        "text/html": [
                            "<table>",
                            "<tr><th>5 leghosszabb szállás név</th><th>hossz</th></tr>",
                            "<tr><td>Szieszta Apartmanház</td><td>20</td></tr>",
                            "<tr><td>Partiszél Vendégház</td><td>19</td></tr>",
                            "<tr><td>Hotel Három Hattyú</td><td>18</td></tr>",
                            "<tr><td>Nyárfás Vendégház</td><td>17</td></tr>",
                            "<tr><td>Fortuna Apartman</td><td>16</td></tr>",
                            "</table>"
                        ]
                    }
                }
            ],
            "execution_count": 40
        },
        {
            "cell_type": "code",
            "source": [
                "SELECT TOP (10) SZALLAS_NEV,\r\n",
                "        CSILLAGOK_SZAMA\r\n",
                "FROM Szallashely\r\n",
                "ORDER BY NEWID()"
            ],
            "metadata": {
                "azdata_cell_guid": "478593a2-4bd2-4b06-adfe-fc73021dcfc3",
                "language": "sql"
            },
            "outputs": [
                {
                    "output_type": "display_data",
                    "data": {
                        "text/html": "(10 rows affected)"
                    },
                    "metadata": {}
                },
                {
                    "output_type": "display_data",
                    "data": {
                        "text/html": "Total execution time: 00:00:00.878"
                    },
                    "metadata": {}
                },
                {
                    "output_type": "execute_result",
                    "metadata": {},
                    "execution_count": 57,
                    "data": {
                        "application/vnd.dataresource+json": {
                            "schema": {
                                "fields": [
                                    {
                                        "name": "SZALLAS_NEV"
                                    },
                                    {
                                        "name": "CSILLAGOK_SZAMA"
                                    }
                                ]
                            },
                            "data": [
                                {
                                    "SZALLAS_NEV": "Fortuna Apartman",
                                    "CSILLAGOK_SZAMA": "0"
                                },
                                {
                                    "SZALLAS_NEV": "Fortuna panzió",
                                    "CSILLAGOK_SZAMA": "3"
                                },
                                {
                                    "SZALLAS_NEV": "Hotel Három Hattyú",
                                    "CSILLAGOK_SZAMA": "4"
                                },
                                {
                                    "SZALLAS_NEV": "Kentaur Hotel",
                                    "CSILLAGOK_SZAMA": "3"
                                },
                                {
                                    "SZALLAS_NEV": "Kollégium",
                                    "CSILLAGOK_SZAMA": "0"
                                },
                                {
                                    "SZALLAS_NEV": "Nyárfás Vendégház",
                                    "CSILLAGOK_SZAMA": "0"
                                },
                                {
                                    "SZALLAS_NEV": "Családi Ház",
                                    "CSILLAGOK_SZAMA": "0"
                                },
                                {
                                    "SZALLAS_NEV": "Partiszél Vendégház",
                                    "CSILLAGOK_SZAMA": "0"
                                },
                                {
                                    "SZALLAS_NEV": "Gold Hotel",
                                    "CSILLAGOK_SZAMA": "3"
                                },
                                {
                                    "SZALLAS_NEV": "Fortuna Apartman",
                                    "CSILLAGOK_SZAMA": "0"
                                }
                            ]
                        },
                        "text/html": [
                            "<table>",
                            "<tr><th>SZALLAS_NEV</th><th>CSILLAGOK_SZAMA</th></tr>",
                            "<tr><td>Fortuna Apartman</td><td>0</td></tr>",
                            "<tr><td>Fortuna panzió</td><td>3</td></tr>",
                            "<tr><td>Hotel Három Hattyú</td><td>4</td></tr>",
                            "<tr><td>Kentaur Hotel</td><td>3</td></tr>",
                            "<tr><td>Kollégium</td><td>0</td></tr>",
                            "<tr><td>Nyárfás Vendégház</td><td>0</td></tr>",
                            "<tr><td>Családi Ház</td><td>0</td></tr>",
                            "<tr><td>Partiszél Vendégház</td><td>0</td></tr>",
                            "<tr><td>Gold Hotel</td><td>3</td></tr>",
                            "<tr><td>Fortuna Apartman</td><td>0</td></tr>",
                            "</table>"
                        ]
                    }
                }
            ],
            "execution_count": 57
        }
    ]
}
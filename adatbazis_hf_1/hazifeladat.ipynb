{
    "metadata": {
        "kernelspec": {
            "name": "SQL",
            "display_name": "SQL",
            "language": "sql"
        },
        "language_info": {
            "name": "sql",
            "version": ""
        }
    },
    "nbformat_minor": 2,
    "nbformat": 4,
    "cells": [
        {
            "cell_type": "code",
            "source": [
                "SELECT AVG(nettoar) AS 'Átlagos nettó ár',\r\n",
                "MIN(nettoar) AS 'Minimum nettó ár',\r\n",
                "MAX(nettoar) AS 'Maximum nettó ár'\r\n",
                "FROM dvd\r\n",
                "WHERE cim is not null"
            ],
            "metadata": {
                "azdata_cell_guid": "72bb860a-f064-41a4-84c5-b49375e66d80",
                "language": "sql"
            },
            "outputs": [
                {
                    "output_type": "display_data",
                    "data": {
                        "text/html": "(1 row affected)"
                    },
                    "metadata": {}
                },
                {
                    "output_type": "display_data",
                    "data": {
                        "text/html": "Total execution time: 00:00:00.953"
                    },
                    "metadata": {}
                },
                {
                    "output_type": "execute_result",
                    "execution_count": 13,
                    "data": {
                        "application/vnd.dataresource+json": {
                            "schema": {
                                "fields": [
                                    {
                                        "name": "Átlagos nettó ár"
                                    },
                                    {
                                        "name": "Minimum nettó ár"
                                    },
                                    {
                                        "name": "Maximum nettó ár"
                                    }
                                ]
                            },
                            "data": [
                                {
                                    "Átlagos nettó ár": "4684,933753943218",
                                    "Minimum nettó ár": "3102",
                                    "Maximum nettó ár": "6098"
                                }
                            ]
                        },
                        "text/html": "<table><tr><th>Átlagos nettó ár</th><th>Minimum nettó ár</th><th>Maximum nettó ár</th></tr><tr><td>4684,933753943218</td><td>3102</td><td>6098</td></tr></table>"
                    },
                    "metadata": {}
                }
            ],
            "execution_count": 13
        },
        {
            "cell_type": "code",
            "source": [
                "SELECT TOP 10 stilus,\r\n",
                " COUNT(*) AS  'darab'\r\n",
                "FROM dvd\r\n",
                "WHERE stilus is not null\r\n",
                "GROUP BY stilus\r\n",
                "ORDER BY 2 DESC"
            ],
            "metadata": {
                "azdata_cell_guid": "4215db48-842f-40a4-a578-16f3ef6abdb5",
                "language": "sql"
            },
            "outputs": [
                {
                    "output_type": "display_data",
                    "data": {
                        "text/html": "(10 rows affected)"
                    },
                    "metadata": {}
                },
                {
                    "output_type": "display_data",
                    "data": {
                        "text/html": "Total execution time: 00:00:00.013"
                    },
                    "metadata": {}
                },
                {
                    "output_type": "execute_result",
                    "execution_count": 46,
                    "data": {
                        "application/vnd.dataresource+json": {
                            "schema": {
                                "fields": [
                                    {
                                        "name": "stilus"
                                    },
                                    {
                                        "name": "darab"
                                    }
                                ]
                            },
                            "data": [
                                {
                                    "stilus": "játék",
                                    "darab": "60"
                                },
                                {
                                    "stilus": "ismeretterjesztő",
                                    "darab": "46"
                                },
                                {
                                    "stilus": "nyelvtanító",
                                    "darab": "42"
                                },
                                {
                                    "stilus": "történelem",
                                    "darab": "41"
                                },
                                {
                                    "stilus": "földrajz",
                                    "darab": "16"
                                },
                                {
                                    "stilus": "irodalom",
                                    "darab": "16"
                                },
                                {
                                    "stilus": "matematika",
                                    "darab": "9"
                                },
                                {
                                    "stilus": "csillagászat",
                                    "darab": "7"
                                },
                                {
                                    "stilus": "szótár",
                                    "darab": "7"
                                },
                                {
                                    "stilus": "felvételi",
                                    "darab": "6"
                                }
                            ]
                        },
                        "text/html": "<table><tr><th>stilus</th><th>darab</th></tr><tr><td>játék</td><td>60</td></tr><tr><td>ismeretterjesztő</td><td>46</td></tr><tr><td>nyelvtanító</td><td>42</td></tr><tr><td>történelem</td><td>41</td></tr><tr><td>földrajz</td><td>16</td></tr><tr><td>irodalom</td><td>16</td></tr><tr><td>matematika</td><td>9</td></tr><tr><td>csillagászat</td><td>7</td></tr><tr><td>szótár</td><td>7</td></tr><tr><td>felvételi</td><td>6</td></tr></table>"
                    },
                    "metadata": {}
                }
            ],
            "execution_count": 46
        },
        {
            "cell_type": "code",
            "source": [
                "SELECT TOP 5\r\n",
                "    LEN(cim) as 'cím hossza',\r\n",
                "    COUNT(*) as 'darab'\r\n",
                "FROM dvd\r\n",
                "WHERE cim is not null\r\n",
                "GROUP BY LEN(cim)\r\n",
                "ORDER BY 1 DESC"
            ],
            "metadata": {
                "azdata_cell_guid": "65b33dc1-f951-45c0-942f-c0f13c450c3d",
                "language": "sql"
            },
            "outputs": [
                {
                    "output_type": "display_data",
                    "data": {
                        "text/html": "(5 rows affected)"
                    },
                    "metadata": {}
                },
                {
                    "output_type": "display_data",
                    "data": {
                        "text/html": "Total execution time: 00:00:00.007"
                    },
                    "metadata": {}
                },
                {
                    "output_type": "execute_result",
                    "execution_count": 44,
                    "data": {
                        "application/vnd.dataresource+json": {
                            "schema": {
                                "fields": [
                                    {
                                        "name": "cím hossza"
                                    },
                                    {
                                        "name": "darab"
                                    }
                                ]
                            },
                            "data": [
                                {
                                    "cím hossza": "63",
                                    "darab": "1"
                                },
                                {
                                    "cím hossza": "57",
                                    "darab": "2"
                                },
                                {
                                    "cím hossza": "56",
                                    "darab": "2"
                                },
                                {
                                    "cím hossza": "55",
                                    "darab": "2"
                                },
                                {
                                    "cím hossza": "54",
                                    "darab": "1"
                                }
                            ]
                        },
                        "text/html": "<table><tr><th>cím hossza</th><th>darab</th></tr><tr><td>63</td><td>1</td></tr><tr><td>57</td><td>2</td></tr><tr><td>56</td><td>2</td></tr><tr><td>55</td><td>2</td></tr><tr><td>54</td><td>1</td></tr></table>"
                    },
                    "metadata": {}
                }
            ],
            "execution_count": 44
        },
        {
            "cell_type": "code",
            "source": [
                "SELECT\r\n",
                "    MIN(LEN(cim)) as 'legrövidebb cím hossz',\r\n",
                "    MAX(LEN(cim)) as 'leghosszabb cím hossz',\r\n",
                "    AVG(LEN(cim)) as 'átlagos cím hossz'\r\n",
                "FROM dvd\r\n",
                "WHERE cim is not null"
            ],
            "metadata": {
                "azdata_cell_guid": "b473b731-18c7-4eb0-89ed-16326fc7f326",
                "language": "sql",
                "tags": []
            },
            "outputs": [
                {
                    "output_type": "display_data",
                    "data": {
                        "text/html": "(1 row affected)"
                    },
                    "metadata": {}
                },
                {
                    "output_type": "display_data",
                    "data": {
                        "text/html": "Total execution time: 00:00:00.017"
                    },
                    "metadata": {}
                },
                {
                    "output_type": "execute_result",
                    "execution_count": 34,
                    "data": {
                        "application/vnd.dataresource+json": {
                            "schema": {
                                "fields": [
                                    {
                                        "name": "legrövidebb cím"
                                    },
                                    {
                                        "name": "leghosszabb cím"
                                    },
                                    {
                                        "name": "átlagos cím hossz"
                                    }
                                ]
                            },
                            "data": [
                                {
                                    "legrövidebb cím": "5",
                                    "leghosszabb cím": "63",
                                    "átlagos cím hossz": "26"
                                }
                            ]
                        },
                        "text/html": "<table><tr><th>legrövidebb cím</th><th>leghosszabb cím</th><th>átlagos cím hossz</th></tr><tr><td>5</td><td>63</td><td>26</td></tr></table>"
                    },
                    "metadata": {}
                }
            ],
            "execution_count": 34
        }
    ]
}